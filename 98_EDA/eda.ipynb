{
 "cells": [
  {
   "cell_type": "markdown",
   "metadata": {},
   "source": [
    "# EDA - Fraud Detection II"
   ]
  },
  {
   "cell_type": "markdown",
   "metadata": {},
   "source": [
    "<!-- <p align=\"center\">\n",
    "<img src=\"../assets/illustration_eda.png\" alt=\"drawing\" width=\"800\"/>\n",
    "<p> -->\n"
   ]
  },
  {
   "cell_type": "code",
   "execution_count": null,
   "metadata": {},
   "outputs": [],
   "source": [
    "# prelude\n",
    "\n",
    "import numpy as np\n",
    "import pandas as pd\n",
    "import seaborn as sns\n",
    "import datetime as dt\n",
    "import plotly.express as px\n",
    "import matplotlib.pyplot as plt\n",
    "\n",
    "from pathlib import Path\n",
    "from datetime import datetime, timedelta\n",
    "\n",
    "\n",
    "\n",
    "k_AssetsDir     = \"../data/\"\n",
    "k_FileName      = \"fraud_test.csv\"\n",
    "k_Gold          = 1.618     # gold number for ratio\n",
    "k_Width         = 12\n",
    "k_Height        = k_Width/k_Gold\n",
    "k_random_state  = 42           \n",
    "k_test_size     = 20/100        \n"
   ]
  },
  {
   "cell_type": "code",
   "execution_count": null,
   "metadata": {},
   "outputs": [],
   "source": [
    "# -----------------------------------------------------------------------------\n",
    "filename_in = Path(k_AssetsDir)/k_FileName\n",
    "df = pd.read_csv(filename_in)\n",
    "\n",
    "# Alternative (AWS S3 bucket)\n",
    "# df = pd.read_csv(\"https://lead-program-assets.s3.eu-west-3.amazonaws.com/M05-Projects/fraudTest.csv\")\n",
    "\n",
    "df.columns = df.columns.str.lower()\n",
    "df.head(3)"
   ]
  },
  {
   "cell_type": "code",
   "execution_count": null,
   "metadata": {},
   "outputs": [],
   "source": [
    "# -----------------------------------------------------------------------------\n",
    "def quick_View(df):\n",
    "  summary_lst = []\n",
    "  \n",
    "  for col_name in df.columns:\n",
    "    col_dtype               = df[col_name].dtype\n",
    "    num_of_null             = df[col_name].isnull().sum()\n",
    "    percent_of_null         = num_of_null/len(df)\n",
    "    num_of_non_null         = df[col_name].notnull().sum()\n",
    "    num_of_distinct_values  = df[col_name].nunique()\n",
    "    \n",
    "    if num_of_distinct_values <= 10:\n",
    "        distinct_values_counts = df[col_name].value_counts().to_dict()\n",
    "    else:\n",
    "        top_10_values_counts    = df[col_name].value_counts().head(10).to_dict()\n",
    "        distinct_values_counts  = {k: v for k, v in sorted(top_10_values_counts.items(), key=lambda item: item[1], reverse=True)}\n",
    "\n",
    "    if col_dtype != \"object\":\n",
    "       max_of_col = df[col_name].max()\n",
    "       min_of_col = df[col_name].min()\n",
    "       outlier_hi = df[col_name].mean() + 3*df[col_name].std()\n",
    "       outlier_lo = df[col_name].mean() - 3*df[col_name].std()\n",
    "    else:\n",
    "       max_of_col = -1\n",
    "       min_of_col =  1\n",
    "       outlier_hi = -1\n",
    "       outlier_lo =  1\n",
    "    \n",
    "    summary_lst.append({\n",
    "      \"name\"                : col_name,\n",
    "      \"dtype\"               : col_dtype,\n",
    "      \"# null\"              : num_of_null,\n",
    "      \"% null\"              : (100*percent_of_null).round(2),\n",
    "      \"# NOT null\"          : num_of_non_null,\n",
    "      \"distinct val\"        : num_of_distinct_values,\n",
    "      \"-3*sig\"              : round(outlier_lo,2) ,\n",
    "      \"min\"                 : round(min_of_col,2),\n",
    "      \"max\"                 : round(max_of_col,2),\n",
    "      \"+3*sig\"              : round(outlier_hi,2) ,\n",
    "      \"distinct val count\"  : distinct_values_counts\n",
    "    })\n",
    "  \n",
    "  tmp_df = pd.DataFrame(summary_lst)\n",
    "  return tmp_df"
   ]
  },
  {
   "cell_type": "code",
   "execution_count": null,
   "metadata": {},
   "outputs": [],
   "source": [
    "tmp_df = quick_View(df)\n",
    "display(tmp_df.sort_values(by=\"# null\", ascending=False))                 "
   ]
  },
  {
   "cell_type": "markdown",
   "metadata": {},
   "source": [
    "### <span style=\"color:orange\"><b>Comments :</b></span>\n",
    "\n",
    "Le tableau ci-dessus montre que : \n",
    "\n",
    "* Il y a 23 features (0 à 22)\n",
    "* La première est un index\n",
    "* Aucune feature ne comporte de valeur nulle (voir les colonnes # null, % null et # NOT null)\n",
    "* Pas de soucis dans l'index. Il y a 555_719 ligne avec des index différents\n",
    "* Rien de très remarquable à part la très grande disparité entre les nombres de transactions frauduleuses (2145) et légitimes (553_574)\n",
    "* Dans le dataset il y a donc **0.38%** de transactions frauduleuses ($\\frac{2145}{(553574+2145)}$)\n",
    "* Compte tenu du contexte (détection de fraudes à la carte bancaire) il est décidé de porter une attention particulière au taux de faux négatif. C'est le taux de transaction frauduleuses qui seront classées comme légitimes. On souhaite que cette valeur soit minimale. Il est très important d'en détecter un maximum même si certaines transactions légitimes sont classées comme frauduleuses.\n",
    "* En plus du taux de faux négatif, suite à l'entrainement on sauvegardera sur le serveur mlflow tracking (https://fraud-202406-70e02a9739f2.herokuapp.com/) la matrice de confusion, la ROC curve etc."
   ]
  },
  {
   "cell_type": "markdown",
   "metadata": {},
   "source": [
    "### <span style=\"color:orange\"><b>Conclusion :</b></span>\n",
    "* **0.38%** : le taux de transactions frauduleuse dans le jeu de test\n",
    "* Métrique principale : Taux de faux négatifs\n"
   ]
  },
  {
   "cell_type": "markdown",
   "metadata": {},
   "source": [
    "### <span style=\"color:orange\"><b>Carte :</b></span>"
   ]
  },
  {
   "cell_type": "code",
   "execution_count": null,
   "metadata": {},
   "outputs": [],
   "source": [
    "df_fraud = df[df[\"is_fraud\"] == 1]\n",
    "fig = px.scatter_mapbox(df_fraud, lat=\"merch_lat\", lon=\"merch_long\", zoom=3,width=1200, height=800)\n",
    "fig.update_layout(mapbox_style=\"open-street-map\")\n",
    "fig.update_layout(title=\"Localisation des fraudes (train dataset)\")\n",
    "fig.show()\n"
   ]
  }
 ],
 "metadata": {
  "kernelspec": {
   "display_name": "fraud2",
   "language": "python",
   "name": "python3"
  },
  "language_info": {
   "codemirror_mode": {
    "name": "ipython",
    "version": 3
   },
   "file_extension": ".py",
   "mimetype": "text/x-python",
   "name": "python",
   "nbconvert_exporter": "python",
   "pygments_lexer": "ipython3",
   "version": "3.12.7"
  }
 },
 "nbformat": 4,
 "nbformat_minor": 2
}
