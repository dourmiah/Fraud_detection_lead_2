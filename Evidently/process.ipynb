{
 "cells": [
  {
   "cell_type": "code",
   "execution_count": 1,
   "metadata": {},
   "outputs": [],
   "source": [
    "import glob"
   ]
  },
  {
   "cell_type": "code",
   "execution_count": null,
   "metadata": {},
   "outputs": [],
   "source": [
    "def _detect_file(**context):\n",
    "    \"\"\"Detects if a file named `*.csv` is inside `./data/data-drift` folder.\n",
    "\n",
    "    If yes, it saves the full path to XCom and return True. False otherwise.\n",
    "    \"\"\"\n",
    "    data_logs_list = glob.glob(\"../data/data-drift/*.csv\")\n",
    "    if not data_logs_list:\n",
    "        return False\n",
    "    data_logs_filename = max(data_logs_list, key=os.path.getctime)\n",
    "    context[\"task_instance\"].xcom_push(key=\"data_logs_filename\", value=data_logs_filename)\n",
    "    return True\n"
   ]
  }
 ],
 "metadata": {
  "kernelspec": {
   "display_name": "base",
   "language": "python",
   "name": "python3"
  },
  "language_info": {
   "codemirror_mode": {
    "name": "ipython",
    "version": 3
   },
   "file_extension": ".py",
   "mimetype": "text/x-python",
   "name": "python",
   "nbconvert_exporter": "python",
   "pygments_lexer": "ipython3",
   "version": "3.12.4"
  }
 },
 "nbformat": 4,
 "nbformat_minor": 2
}
